{
 "cells": [
  {
   "cell_type": "markdown",
   "metadata": {},
   "source": [
    "# Inclusive Institutions\n",
    "\n",
    "After reading [Why Nations Fail](http://whynationsfail.com/summary/) by Daron Acemoglu and James \n",
    "Robinson, I wanted to look at some data to check the thesis of the book. I summarize their thesis\n",
    "as:\n",
    "\n",
    "> Inequality between nations can be explained mostly by differences in the inclusiveness of \n",
    "> their economic and political institutions.\n",
    "\n",
    "![why nations fail cover](https://rap.ceu.edu/sites/rap.ceu.edu/files/styles/panopoly_image_half/public/main_image/article/323/whynationsfailbanner.jpg?itok=PeNNOz0t)\n",
    "\n",
    "The two kinds of institutions they mention, economic and political, demand different measures. \n",
    "For political institutions, I chose the [Democracy Index](https://en.wikipedia.org/wiki/Democracy_Index), where the lowest scores (< 4) correspond to authoritarian countries, and the highest scores \n",
    "(>= 8) correspond to full democracies. For the record, the U.S. is at 7.98, which means it is \n",
    "categorized as a flawed democracy, not a full democracy.\n",
    "\n",
    "For economic institutions, the authors used \"inclusive economic institutions\" to mean that \n",
    "individuals can own property, and that intellectual property rights are secure, that's a central \n",
    "part of their thesis, that allowing individuals to protect their ideas creates incentives for \n",
    "people to innovate. This is very closely related to the [Index of Economic Freedom](https://en.wikipedia.org/wiki/Index_of_Economic_Freedom). \n",
    "\n",
    "We will use the Democracy Index (0 - 10) and the Index of Economic Freedom (0 - 100), normalized \n",
    "to the range (0 - 1), then multiplied together, to represent \"economic and political inclusivity\".\n",
    "\n",
    "Then, we will use per-capita GDP (at purchasing-power parity) as the measure of the how rich \n",
    "people of that country are. Please keep in mind these are proxies for the relevant variables, \n",
    "but that this sort of analysis is far better than just agreeing or disagreeing with the thesis \n",
    "based on your subjective response to the book's \n",
    "arguments. If these two variables turn out to be uncorrelated, we can pretty much reject the book\n",
    "outright. Otherwise, we should engage the arguments and study the limits of the theory.\n",
    "\n",
    "Sources:\n",
    " - Index of Economic Freedom: https://en.wikipedia.org/wiki/Index_of_Economic_Freedom\n",
    " - Democracy Index: https://en.wikipedia.org/wiki/Democracy_Index\n",
    " - List of Countries by GDP per capita (PPP): https://en.wikipedia.org/wiki/List_of_countries_by_GDP_(PPP)_per_capita"
   ]
  },
  {
   "cell_type": "code",
   "execution_count": 2,
   "metadata": {
    "collapsed": true
   },
   "outputs": [],
   "source": [
    "%matplotlib inline\n",
    "import matplotlib.pyplot as plt\n",
    "import numpy as np\n",
    "import pandas as pd"
   ]
  },
  {
   "cell_type": "code",
   "execution_count": 5,
   "metadata": {},
   "outputs": [
    {
     "data": {
      "text/html": [
       "<div>\n",
       "<style>\n",
       "    .dataframe thead tr:only-child th {\n",
       "        text-align: right;\n",
       "    }\n",
       "\n",
       "    .dataframe thead th {\n",
       "        text-align: left;\n",
       "    }\n",
       "\n",
       "    .dataframe tbody tr th {\n",
       "        vertical-align: top;\n",
       "    }\n",
       "</style>\n",
       "<table border=\"1\" class=\"dataframe\">\n",
       "  <thead>\n",
       "    <tr style=\"text-align: right;\">\n",
       "      <th></th>\n",
       "      <th>Country</th>\n",
       "      <th>Democracy Score</th>\n",
       "      <th>Economic Freedom Score</th>\n",
       "      <th>GDP per capita PPP</th>\n",
       "    </tr>\n",
       "  </thead>\n",
       "  <tbody>\n",
       "    <tr>\n",
       "      <th>0</th>\n",
       "      <td>Norway</td>\n",
       "      <td>9.93</td>\n",
       "      <td>71.8</td>\n",
       "      <td>69249.0</td>\n",
       "    </tr>\n",
       "    <tr>\n",
       "      <th>1</th>\n",
       "      <td>Iceland</td>\n",
       "      <td>9.50</td>\n",
       "      <td>72.0</td>\n",
       "      <td>49136.0</td>\n",
       "    </tr>\n",
       "    <tr>\n",
       "      <th>2</th>\n",
       "      <td>Sweden</td>\n",
       "      <td>9.39</td>\n",
       "      <td>72.7</td>\n",
       "      <td>49836.0</td>\n",
       "    </tr>\n",
       "    <tr>\n",
       "      <th>3</th>\n",
       "      <td>New Zealand</td>\n",
       "      <td>9.26</td>\n",
       "      <td>81.6</td>\n",
       "      <td>37294.0</td>\n",
       "    </tr>\n",
       "    <tr>\n",
       "      <th>4</th>\n",
       "      <td>Denmark</td>\n",
       "      <td>9.20</td>\n",
       "      <td>75.3</td>\n",
       "      <td>47985.0</td>\n",
       "    </tr>\n",
       "  </tbody>\n",
       "</table>\n",
       "</div>"
      ],
      "text/plain": [
       "       Country  Democracy Score  Economic Freedom Score  GDP per capita PPP\n",
       "0       Norway             9.93                    71.8             69249.0\n",
       "1      Iceland             9.50                    72.0             49136.0\n",
       "2       Sweden             9.39                    72.7             49836.0\n",
       "3  New Zealand             9.26                    81.6             37294.0\n",
       "4      Denmark             9.20                    75.3             47985.0"
      ]
     },
     "execution_count": 5,
     "metadata": {},
     "output_type": "execute_result"
    }
   ],
   "source": [
    "iidata = pd.read_csv(\"inclusive-institutions.csv\")\n",
    "iidata.head(5)"
   ]
  },
  {
   "cell_type": "code",
   "execution_count": 7,
   "metadata": {},
   "outputs": [
    {
     "data": {
      "text/plain": [
       "<matplotlib.collections.PathCollection at 0x7f20419ffb50>"
      ]
     },
     "execution_count": 7,
     "metadata": {},
     "output_type": "execute_result"
    },
    {
     "data": {
      "image/png": "[encoded data removed]",
      "text/plain": [
       "<matplotlib.figure.Figure at 0x7f204119d9d0>"
      ]
     },
     "metadata": {},
     "output_type": "display_data"
    }
   ],
   "source": [
    "plt.scatter(iidata[\"Democracy Score\"], iidata[\"GDP per capita PPP\"])"
   ]
  },
  {
   "cell_type": "code",
   "execution_count": 8,
   "metadata": {},
   "outputs": [
    {
     "data": {
      "text/plain": [
       "<matplotlib.collections.PathCollection at 0x7f204ab9aad0>"
      ]
     },
     "execution_count": 8,
     "metadata": {},
     "output_type": "execute_result"
    },
    {
     "data": {
      "image/png": "[encoded data removed]",
      "text/plain": [
       "<matplotlib.figure.Figure at 0x7f2041108050>"
      ]
     },
     "metadata": {},
     "output_type": "display_data"
    }
   ],
   "source": [
    "plt.scatter(iidata[\"Economic Freedom Score\"], iidata[\"GDP per capita PPP\"])"
   ]
  },
  {
   "cell_type": "code",
   "execution_count": null,
   "metadata": {
    "collapsed": true
   },
   "outputs": [],
   "source": []
  }
 ],
 "metadata": {
  "kernelspec": {
   "display_name": "Python 2",
   "language": "python",
   "name": "python2"
  },
  "language_info": {
   "codemirror_mode": {
    "name": "ipython",
    "version": 2
   },
   "file_extension": ".py",
   "mimetype": "text/x-python",
   "name": "python",
   "nbconvert_exporter": "python",
   "pygments_lexer": "ipython2",
   "version": "2.7.14"
  }
 },
 "nbformat": 4,
 "nbformat_minor": 2
}
